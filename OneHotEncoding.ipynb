{
 "cells": [
  {
   "cell_type": "code",
   "execution_count": 1,
   "id": "8b18aceb",
   "metadata": {},
   "outputs": [],
   "source": [
    "import pandas as pd"
   ]
  },
  {
   "cell_type": "code",
   "execution_count": 2,
   "id": "3403cf42",
   "metadata": {},
   "outputs": [],
   "source": [
    "# Cargar el dataset \n",
    "data = pd.read_excel('datos_normalizados.xlsx')"
   ]
  },
  {
   "cell_type": "code",
   "execution_count": 3,
   "id": "55e31a2d",
   "metadata": {},
   "outputs": [],
   "source": [
    " #Obtener las características (todas las columnas excepto la última)\n",
    "caracteristicas = data.iloc[:, :-1]"
   ]
  },
  {
   "cell_type": "code",
   "execution_count": 4,
   "id": "15eb645e",
   "metadata": {},
   "outputs": [],
   "source": [
    "# Obtener la columna de etiquetas\n",
    "etiquetas = data.iloc[:, -1]"
   ]
  },
  {
   "cell_type": "code",
   "execution_count": 5,
   "id": "f6e14065",
   "metadata": {},
   "outputs": [],
   "source": [
    "# Aplicar One-Hot Encoding a la columna de etiquetas\n",
    "etiquetas_encoded = pd.get_dummies(etiquetas, prefix='Label')"
   ]
  },
  {
   "cell_type": "code",
   "execution_count": 6,
   "id": "89a0a596",
   "metadata": {},
   "outputs": [],
   "source": [
    "etiquetas_encoded = etiquetas_encoded.astype(int)\n",
    "# Concatenar las características originales con las columnas codificadas en One-Hot\n",
    "data_encoded = pd.concat([caracteristicas, etiquetas_encoded], axis=1)"
   ]
  },
  {
   "cell_type": "code",
   "execution_count": 7,
   "id": "e7d4ae6b",
   "metadata": {},
   "outputs": [
    {
     "name": "stdout",
     "output_type": "stream",
     "text": [
      "      est_civ_cli  gen_cli  educacion  ocupacion  sueldo      edad  casa  \\\n",
      "0            0.55      0.1        0.1      0.550   0.325  0.307692   0.1   \n",
      "1            0.55      0.1        0.1      0.550   0.325  0.307692   0.1   \n",
      "2            0.55      0.1        0.1      0.550   0.325  0.307692   0.1   \n",
      "3            0.55      0.1        0.1      0.550   0.325  0.307692   0.1   \n",
      "4            0.55      0.1        0.1      0.550   0.325  0.307692   0.1   \n",
      "...           ...      ...        ...        ...     ...       ...   ...   \n",
      "4993         1.00      1.0        0.1      0.100   0.250  0.238462   1.0   \n",
      "4994         1.00      1.0        1.0      1.000   0.475  0.653846   0.1   \n",
      "4995         0.10      0.1        0.1      0.550   0.100  0.100000   0.1   \n",
      "4996         0.10      0.1        0.1      0.775   0.100  0.653846   0.1   \n",
      "4997         1.00      1.0        1.0      0.100   0.700  0.515385   0.1   \n",
      "\n",
      "      hijos  vehiculo  ciud_cli  ...       mes  trimestre     monto  cantidad  \\\n",
      "0       0.7      0.10   0.40000  ...  0.427273        0.4  0.107031       0.4   \n",
      "1       0.7      0.10   0.40000  ...  0.427273        0.4  0.107752       0.3   \n",
      "2       0.7      0.10   0.40000  ...  0.427273        0.4  0.102824       0.2   \n",
      "3       0.7      0.10   0.40000  ...  0.427273        0.4  0.103425       0.1   \n",
      "4       0.7      0.10   0.40000  ...  0.427273        0.4  0.121453       0.4   \n",
      "...     ...       ...       ...  ...       ...        ...       ...       ...   \n",
      "4993    0.1      0.10   0.73750  ...  0.100000        0.1  0.108473       0.2   \n",
      "4994    0.7      0.55   0.88750  ...  0.345455        0.4  0.104146       0.1   \n",
      "4995    0.1      0.10   0.43750  ...  0.181818        0.1  0.105829       0.5   \n",
      "4996    0.7      0.55   0.73750  ...  0.427273        0.4  0.128664       0.4   \n",
      "4997    0.7      0.10   0.98125  ...  0.263636        0.1  0.107031       0.5   \n",
      "\n",
      "      ganancia  Label_1  Label_2  Label_3  Label_4  Label_5  \n",
      "0     0.117919        0        1        0        0        0  \n",
      "1     0.124222        0        0        1        0        0  \n",
      "2     0.109391        0        1        0        0        0  \n",
      "3     0.108840        0        1        0        0        0  \n",
      "4     0.170039        0        1        0        0        0  \n",
      "...        ...      ...      ...      ...      ...      ...  \n",
      "4993  0.107186        1        0        0        0        0  \n",
      "4994  0.103326        1        0        0        0        0  \n",
      "4995  0.102224        1        0        0        0        0  \n",
      "4996  0.136959        1        0        0        0        0  \n",
      "4997  0.113343        1        0        0        0        0  \n",
      "\n",
      "[4998 rows x 29 columns]\n"
     ]
    }
   ],
   "source": [
    "# Mostrar el DataFrame con One-Hot Encoding\n",
    "print(data_encoded)"
   ]
  },
  {
   "cell_type": "code",
   "execution_count": 8,
   "id": "3ededea7",
   "metadata": {},
   "outputs": [],
   "source": [
    "data_encoded.to_excel('datos_encoded.xlsx', index=False)"
   ]
  }
 ],
 "metadata": {
  "kernelspec": {
   "display_name": "Python 3 (ipykernel)",
   "language": "python",
   "name": "python3"
  },
  "language_info": {
   "codemirror_mode": {
    "name": "ipython",
    "version": 3
   },
   "file_extension": ".py",
   "mimetype": "text/x-python",
   "name": "python",
   "nbconvert_exporter": "python",
   "pygments_lexer": "ipython3",
   "version": "3.12.2"
  }
 },
 "nbformat": 4,
 "nbformat_minor": 5
}
