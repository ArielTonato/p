{
 "cells": [
  {
   "cell_type": "code",
   "execution_count": 2,
   "id": "7f2b343f",
   "metadata": {},
   "outputs": [],
   "source": [
    "import pandas as pd\n",
    "from sklearn.preprocessing import MinMaxScaler"
   ]
  },
  {
   "cell_type": "code",
   "execution_count": 3,
   "id": "8a32f4a3",
   "metadata": {},
   "outputs": [],
   "source": [
    "# Cargar el dataset \n",
    "data = pd.read_excel('dataset.xlsx',sheet_name='DNM')"
   ]
  },
  {
   "cell_type": "code",
   "execution_count": 4,
   "id": "c1f8dcef",
   "metadata": {},
   "outputs": [],
   "source": [
    "# Separa las características (columnas 0 a 24) de la etiqueta (última columna)\n",
    "X = data.iloc[:, :-1]  # Características\n",
    "y = data.iloc[:, -1]   # Etiqueta"
   ]
  },
  {
   "cell_type": "code",
   "execution_count": 5,
   "id": "4791d351",
   "metadata": {},
   "outputs": [],
   "source": [
    "# Normaliza las características en el rango de 0 a 1\n",
    "scaler = MinMaxScaler(feature_range=(0.1, 1))\n",
    "X_normalized = scaler.fit_transform(X)"
   ]
  },
  {
   "cell_type": "code",
   "execution_count": 6,
   "id": "aba5f55e",
   "metadata": {},
   "outputs": [],
   "source": [
    "# Crea un nuevo DataFrame con las características normalizadas y la etiqueta\n",
    "normalized_data = pd.DataFrame(X_normalized, columns=X.columns)\n",
    "normalized_data['Etiqueta'] = y  # Agrega la columna de etiqueta al DataFrame"
   ]
  },
  {
   "cell_type": "code",
   "execution_count": 7,
   "id": "8cd15da1",
   "metadata": {},
   "outputs": [],
   "source": [
    "# Guarda el DataFrame normalizado en un nuevo archivo excel\n",
    "normalized_data.to_excel('datos_normalizados.xlsx', index=False)"
   ]
  }
 ],
 "metadata": {
  "kernelspec": {
   "display_name": "Python 3 (ipykernel)",
   "language": "python",
   "name": "python3"
  },
  "language_info": {
   "codemirror_mode": {
    "name": "ipython",
    "version": 3
   },
   "file_extension": ".py",
   "mimetype": "text/x-python",
   "name": "python",
   "nbconvert_exporter": "python",
   "pygments_lexer": "ipython3",
   "version": "3.12.2"
  }
 },
 "nbformat": 4,
 "nbformat_minor": 5
}
