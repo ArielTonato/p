{
 "cells": [
  {
   "cell_type": "code",
   "execution_count": 1,
   "id": "8a6578f9",
   "metadata": {},
   "outputs": [],
   "source": [
    "import pandas as pd\n",
    "from sklearn.model_selection import train_test_split\n"
   ]
  },
  {
   "cell_type": "code",
   "execution_count": 2,
   "id": "3e99b5a7",
   "metadata": {},
   "outputs": [],
   "source": [
    "# Cargar el dataset \n",
    "data = pd.read_excel('datos_normalizados.xlsx')"
   ]
  },
  {
   "cell_type": "code",
   "execution_count": 3,
   "id": "a6ddbe76",
   "metadata": {},
   "outputs": [],
   "source": [
    "# Obtener el número de columnas menos 1 para la última columna de etiquetas\n",
    "num_columnas = len(data.columns)\n",
    "columna_etiquetas = data.columns[num_columnas - 1]  # Última columna"
   ]
  },
  {
   "cell_type": "code",
   "execution_count": 4,
   "id": "009274dc",
   "metadata": {},
   "outputs": [
    {
     "name": "stdout",
     "output_type": "stream",
     "text": [
      "      est_civ_cli  gen_cli  educacion  ocupacion  sueldo      edad  casa  \\\n",
      "0            0.55      0.1        0.1      0.550   0.325  0.307692   0.1   \n",
      "2            0.55      0.1        0.1      0.550   0.325  0.307692   0.1   \n",
      "3            0.55      0.1        0.1      0.550   0.325  0.307692   0.1   \n",
      "4            0.55      0.1        0.1      0.550   0.325  0.307692   0.1   \n",
      "5            0.10      1.0        1.0      0.325   0.400  0.515385   0.1   \n",
      "...           ...      ...        ...        ...     ...       ...   ...   \n",
      "4993         1.00      1.0        0.1      0.100   0.250  0.238462   1.0   \n",
      "4994         1.00      1.0        1.0      1.000   0.475  0.653846   0.1   \n",
      "4995         0.10      0.1        0.1      0.550   0.100  0.100000   0.1   \n",
      "4996         0.10      0.1        0.1      0.775   0.100  0.653846   0.1   \n",
      "4997         1.00      1.0        1.0      0.100   0.700  0.515385   0.1   \n",
      "\n",
      "      hijos  vehiculo  ciud_cli  ...  potencia  subcategoria  categoria  \\\n",
      "0       0.7      0.10   0.40000  ...  0.897727          0.28      0.325   \n",
      "2       0.7      0.10   0.40000  ...  0.897727          0.37      0.325   \n",
      "3       0.7      0.10   0.40000  ...  0.897727          0.28      0.325   \n",
      "4       0.7      0.10   0.40000  ...  0.897727          0.40      0.325   \n",
      "5       0.4      0.10   0.56875  ...  0.181818          0.16      0.100   \n",
      "...     ...       ...       ...  ...       ...           ...        ...   \n",
      "4993    0.1      0.10   0.73750  ...  0.243182          0.10      0.100   \n",
      "4994    0.7      0.55   0.88750  ...  0.243182          0.10      0.100   \n",
      "4995    0.1      0.10   0.43750  ...  0.325000          0.13      0.100   \n",
      "4996    0.7      0.55   0.73750  ...  0.325000          0.10      0.100   \n",
      "4997    0.7      0.10   0.98125  ...  0.157273          0.16      0.100   \n",
      "\n",
      "          anio       mes  trimestre     monto  cantidad  ganancia  Etiqueta  \n",
      "0     0.485714  0.427273        0.4  0.107031       0.4  0.117919         2  \n",
      "2     0.485714  0.427273        0.4  0.102824       0.2  0.109391         2  \n",
      "3     0.485714  0.427273        0.4  0.103425       0.1  0.108840         2  \n",
      "4     0.485714  0.427273        0.4  0.121453       0.4  0.170039         2  \n",
      "5     0.357143  0.590909        0.7  0.105829       0.5  0.116099         1  \n",
      "...        ...       ...        ...       ...       ...       ...       ...  \n",
      "4993  0.742857  0.100000        0.1  0.108473       0.2  0.107186         1  \n",
      "4994  0.742857  0.345455        0.4  0.104146       0.1  0.103326         1  \n",
      "4995  0.742857  0.181818        0.1  0.105829       0.5  0.102224         1  \n",
      "4996  0.742857  0.427273        0.4  0.128664       0.4  0.136959         1  \n",
      "4997  0.742857  0.263636        0.1  0.107031       0.5  0.113343         1  \n",
      "\n",
      "[1998 rows x 25 columns]\n"
     ]
    }
   ],
   "source": [
    "# Filtrar las etiquetas deseadas (por ejemplo, 1 y 2)\n",
    "etiquetas_deseadas = [1, 2]\n",
    "subset_1 = data[data[columna_etiquetas].isin(etiquetas_deseadas)]\n",
    "print(subset_1)"
   ]
  },
  {
   "cell_type": "code",
   "execution_count": 5,
   "id": "e83387cb",
   "metadata": {},
   "outputs": [
    {
     "name": "stdout",
     "output_type": "stream",
     "text": [
      "      est_civ_cli  gen_cli  educacion  ocupacion  sueldo      edad  casa  \\\n",
      "0            0.55      0.1        0.1      0.550   0.325  0.307692   0.1   \n",
      "2            0.55      0.1        0.1      0.550   0.325  0.307692   0.1   \n",
      "3            0.55      0.1        0.1      0.550   0.325  0.307692   0.1   \n",
      "4            0.55      0.1        0.1      0.550   0.325  0.307692   0.1   \n",
      "5            0.10      1.0        1.0      0.325   0.400  0.515385   0.1   \n",
      "...           ...      ...        ...        ...     ...       ...   ...   \n",
      "4993         1.00      1.0        0.1      0.100   0.250  0.238462   1.0   \n",
      "4994         1.00      1.0        1.0      1.000   0.475  0.653846   0.1   \n",
      "4995         0.10      0.1        0.1      0.550   0.100  0.100000   0.1   \n",
      "4996         0.10      0.1        0.1      0.775   0.100  0.653846   0.1   \n",
      "4997         1.00      1.0        1.0      0.100   0.700  0.515385   0.1   \n",
      "\n",
      "      hijos  vehiculo  ciud_cli  ...  potencia  subcategoria  categoria  \\\n",
      "0       0.7      0.10   0.40000  ...  0.897727          0.28      0.325   \n",
      "2       0.7      0.10   0.40000  ...  0.897727          0.37      0.325   \n",
      "3       0.7      0.10   0.40000  ...  0.897727          0.28      0.325   \n",
      "4       0.7      0.10   0.40000  ...  0.897727          0.40      0.325   \n",
      "5       0.4      0.10   0.56875  ...  0.181818          0.16      0.100   \n",
      "...     ...       ...       ...  ...       ...           ...        ...   \n",
      "4993    0.1      0.10   0.73750  ...  0.243182          0.10      0.100   \n",
      "4994    0.7      0.55   0.88750  ...  0.243182          0.10      0.100   \n",
      "4995    0.1      0.10   0.43750  ...  0.325000          0.13      0.100   \n",
      "4996    0.7      0.55   0.73750  ...  0.325000          0.10      0.100   \n",
      "4997    0.7      0.10   0.98125  ...  0.157273          0.16      0.100   \n",
      "\n",
      "          anio       mes  trimestre     monto  cantidad  ganancia  Etiqueta  \n",
      "0     0.485714  0.427273        0.4  0.107031       0.4  0.117919         1  \n",
      "2     0.485714  0.427273        0.4  0.102824       0.2  0.109391         1  \n",
      "3     0.485714  0.427273        0.4  0.103425       0.1  0.108840         1  \n",
      "4     0.485714  0.427273        0.4  0.121453       0.4  0.170039         1  \n",
      "5     0.357143  0.590909        0.7  0.105829       0.5  0.116099         0  \n",
      "...        ...       ...        ...       ...       ...       ...       ...  \n",
      "4993  0.742857  0.100000        0.1  0.108473       0.2  0.107186         0  \n",
      "4994  0.742857  0.345455        0.4  0.104146       0.1  0.103326         0  \n",
      "4995  0.742857  0.181818        0.1  0.105829       0.5  0.102224         0  \n",
      "4996  0.742857  0.427273        0.4  0.128664       0.4  0.136959         0  \n",
      "4997  0.742857  0.263636        0.1  0.107031       0.5  0.113343         0  \n",
      "\n",
      "[1998 rows x 25 columns]\n"
     ]
    },
    {
     "name": "stderr",
     "output_type": "stream",
     "text": [
      "C:\\Users\\Alexa\\AppData\\Local\\Temp\\ipykernel_10968\\364709041.py:2: SettingWithCopyWarning: \n",
      "A value is trying to be set on a copy of a slice from a DataFrame.\n",
      "Try using .loc[row_indexer,col_indexer] = value instead\n",
      "\n",
      "See the caveats in the documentation: https://pandas.pydata.org/pandas-docs/stable/user_guide/indexing.html#returning-a-view-versus-a-copy\n",
      "  subset_1[columna_etiquetas] = subset_1[columna_etiquetas].replace({1: 0, 2: 1})\n"
     ]
    }
   ],
   "source": [
    "# Convertir etiquetas 1 y 2 a 0 y 1\n",
    "subset_1[columna_etiquetas] = subset_1[columna_etiquetas].replace({1: 0, 2: 1})\n",
    "\n",
    "# Mostrar el subset con las etiquetas modificadas\n",
    "print(subset_1)\n"
   ]
  },
  {
   "cell_type": "code",
   "execution_count": 6,
   "id": "145d01a9",
   "metadata": {},
   "outputs": [],
   "source": [
    "# Guardar subset_1 en un archivo Excel\n",
    "nombre_archivo_subset_1 = 'dataset_separado.xlsx'  # Nombre del archivo para subset_1\n",
    "subset_1.to_excel(nombre_archivo_subset_1, index=False)  # Guardar subset_1 sin el índice\n"
   ]
  }
 ],
 "metadata": {
  "kernelspec": {
   "display_name": "Python 3 (ipykernel)",
   "language": "python",
   "name": "python3"
  },
  "language_info": {
   "codemirror_mode": {
    "name": "ipython",
    "version": 3
   },
   "file_extension": ".py",
   "mimetype": "text/x-python",
   "name": "python",
   "nbconvert_exporter": "python",
   "pygments_lexer": "ipython3",
   "version": "3.12.2"
  }
 },
 "nbformat": 4,
 "nbformat_minor": 5
}
